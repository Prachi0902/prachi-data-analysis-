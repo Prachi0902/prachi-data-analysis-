{
  "nbformat": 4,
  "nbformat_minor": 0,
  "metadata": {
    "colab": {
      "provenance": []
    },
    "kernelspec": {
      "name": "python3",
      "display_name": "Python 3"
    },
    "language_info": {
      "name": "python"
    }
  },
  "cells": [
    {
      "cell_type": "markdown",
      "source": [
        "# Module1"
      ],
      "metadata": {
        "id": "pS676ntvCdtZ"
      }
    },
    {
      "cell_type": "code",
      "source": [
        "#1.write a python program to sum of the first n positive integers\n",
        "def sum_of_n(n):\n",
        "  return(n*(n+1))//2\n",
        "  "
      ],
      "metadata": {
        "id": "r-NbS1WfjnZx"
      },
      "execution_count": null,
      "outputs": []
    },
    {
      "cell_type": "code",
      "source": [
        "sum_of_n(100)"
      ],
      "metadata": {
        "colab": {
          "base_uri": "https://localhost:8080/"
        },
        "id": "KluW1kHVj82j",
        "outputId": "09d0a444-22c5-4f0d-a2e7-2ee4a596452e"
      },
      "execution_count": null,
      "outputs": [
        {
          "output_type": "execute_result",
          "data": {
            "text/plain": [
              "5050"
            ]
          },
          "metadata": {},
          "execution_count": 58
        }
      ]
    },
    {
      "cell_type": "code",
      "source": [
        "# n = int(input(\"enter the value of n:\"))\n",
        "# return(n*(n+1))//2\n",
        "# print(\"sum of all integers from 1 to n is\")"
      ],
      "metadata": {
        "colab": {
          "base_uri": "https://localhost:8080/",
          "height": 148
        },
        "id": "RfmeYsFEkzab",
        "outputId": "94eae13a-7063-4c96-8001-591c988bd12e"
      },
      "execution_count": null,
      "outputs": [
        {
          "name": "stdout",
          "output_type": "stream",
          "text": [
            "enter the value of n:5\n"
          ]
        },
        {
          "output_type": "error",
          "ename": "SyntaxError",
          "evalue": "ignored",
          "traceback": [
            "\u001b[0;36m  File \u001b[0;32m\"<ipython-input-8-4dc2718d08fb>\"\u001b[0;36m, line \u001b[0;32m2\u001b[0m\n\u001b[0;31m    return (n*(n+1))//2\u001b[0m\n\u001b[0m    ^\u001b[0m\n\u001b[0;31mSyntaxError\u001b[0m\u001b[0;31m:\u001b[0m 'return' outside function\n"
          ]
        }
      ]
    },
    {
      "cell_type": "code",
      "source": [
        "#2.`write a python program to count occurrences of a substring in a string\n",
        "\n",
        "s = \"prachi chauhan\""
      ],
      "metadata": {
        "id": "x9IqwYEJrw9N"
      },
      "execution_count": null,
      "outputs": []
    },
    {
      "cell_type": "code",
      "source": [
        "s.count(\"a\")"
      ],
      "metadata": {
        "colab": {
          "base_uri": "https://localhost:8080/"
        },
        "id": "K3ysMJxfr04_",
        "outputId": "31c3b4df-ff98-4ab6-ed11-282a59f8d15f"
      },
      "execution_count": null,
      "outputs": [
        {
          "output_type": "execute_result",
          "data": {
            "text/plain": [
              "3"
            ]
          },
          "metadata": {},
          "execution_count": 18
        }
      ]
    },
    {
      "cell_type": "code",
      "source": [
        "s.split?"
      ],
      "metadata": {
        "id": "wefkDzdE00zf"
      },
      "execution_count": null,
      "outputs": []
    },
    {
      "cell_type": "code",
      "source": [
        "#3.write a python program to count the occurrences of each word in a given sentence\n",
        "\n",
        "def count_words(sentence):\n",
        "    words = sentence.split()\n",
        "    return Counter(words)\n",
        "\n",
        "\n",
        "count_words(\"The quick brown fox jumps over the lazy dog.\")\n"
      ],
      "metadata": {
        "colab": {
          "base_uri": "https://localhost:8080/"
        },
        "id": "1B0xSl-K8E8Z",
        "outputId": "4771b3e0-9a74-46e3-fd24-ae300f1f1cc5"
      },
      "execution_count": null,
      "outputs": [
        {
          "output_type": "execute_result",
          "data": {
            "text/plain": [
              "Counter({'The': 1,\n",
              "         'quick': 1,\n",
              "         'brown': 1,\n",
              "         'fox': 1,\n",
              "         'jumps': 1,\n",
              "         'over': 1,\n",
              "         'the': 1,\n",
              "         'lazy': 1,\n",
              "         'dog.': 1})"
            ]
          },
          "metadata": {},
          "execution_count": 65
        }
      ]
    },
    {
      "cell_type": "code",
      "source": [
        "\n",
        "count_words(\"The quick brown dog fox jumps over the lazy dog .\")"
      ],
      "metadata": {
        "colab": {
          "base_uri": "https://localhost:8080/"
        },
        "id": "Kq_Z5LzS76u1",
        "outputId": "53aacbf5-6907-4036-81b5-b4c7327bd714"
      },
      "execution_count": null,
      "outputs": [
        {
          "output_type": "execute_result",
          "data": {
            "text/plain": [
              "Counter({'The': 1,\n",
              "         'quick': 1,\n",
              "         'brown': 1,\n",
              "         'dog': 2,\n",
              "         'fox': 1,\n",
              "         'jumps': 1,\n",
              "         'over': 1,\n",
              "         'the': 1,\n",
              "         'lazy': 1,\n",
              "         '.': 1})"
            ]
          },
          "metadata": {},
          "execution_count": 67
        }
      ]
    },
    {
      "cell_type": "code",
      "source": [
        "#4.write a python program to get a single string from two given string ,separated by a space and swap the first two character of each string\n",
        "\n",
        "def sawp_strings(string1 , string2):\n",
        "    new_string = string1 + \" \" + string2\n",
        "   \n",
        "   \n",
        "    new_string = string2[ :2] + string1[2: ] + \" \" + string1[ :2] + string2[2: ]\n",
        "    return new_string\n",
        "swap_strings(\"hello\",\"world\")\n",
        "\n",
        "\n",
        "  "
      ],
      "metadata": {
        "colab": {
          "base_uri": "https://localhost:8080/",
          "height": 35
        },
        "id": "lfSmi8SbO-bv",
        "outputId": "c88e050c-5d5c-4662-cbea-b8c89ef3e34c"
      },
      "execution_count": null,
      "outputs": [
        {
          "output_type": "execute_result",
          "data": {
            "text/plain": [
              "'wollo herld'"
            ],
            "application/vnd.google.colaboratory.intrinsic+json": {
              "type": "string"
            }
          },
          "metadata": {},
          "execution_count": 100
        }
      ]
    },
    {
      "cell_type": "code",
      "source": [
        "#5.write a python program to  add 'ing' at the end of a given string(length should be at least 3)if the given string alredy ends with 'ing' then string of \n",
        "#then add 'ly' instead if the string length of the given string is less then 3,leave it unchanged "
      ],
      "metadata": {
        "id": "ZxGMMPpW-Vn3"
      },
      "execution_count": null,
      "outputs": []
    },
    {
      "cell_type": "code",
      "source": [
        "#6\n",
        "def add_string(str1):\n",
        "    length = len(str1)\n",
        "    \n",
        "    if length > 2:\n",
        "        if str1[-3:] == 'ing':\n",
        "            str1 += 'ly'\n",
        "        else:\n",
        "            str1 += 'ing'\n",
        "    return str1\n",
        "\n",
        "string = input(\"Enter a string: \")\n",
        "print(\"Modified string: \" + add_string(string))\n"
      ],
      "metadata": {
        "colab": {
          "base_uri": "https://localhost:8080/"
        },
        "id": "Jp-qpOR0_0xA",
        "outputId": "f890993c-3f60-40a9-81f6-2bba7d5ed9a8"
      },
      "execution_count": null,
      "outputs": [
        {
          "output_type": "stream",
          "name": "stdout",
          "text": [
            "Enter a string: party\n",
            "Modified string: partying\n"
          ]
        }
      ]
    },
    {
      "cell_type": "code",
      "source": [
        "#7\n",
        "def gcd(a, b):\n",
        "    while b:\n",
        "        a, b = b, a % b\n",
        "    return a\n",
        "\n",
        "num1 = int(input(\"Enter first number: \"))\n",
        "num2 = int(input(\"Enter second number: \"))\n",
        "\n",
        "print(\"The GCD of\", num1, \"and\", num2, \"is\", gcd(num1, num2))\n"
      ],
      "metadata": {
        "colab": {
          "base_uri": "https://localhost:8080/"
        },
        "id": "UHtfglJv-3Tv",
        "outputId": "da8b1553-7ae5-423a-c59c-99a443eecde8"
      },
      "execution_count": null,
      "outputs": [
        {
          "output_type": "stream",
          "name": "stdout",
          "text": [
            "Enter first number: 6\n",
            "Enter second number: 5\n",
            "The GCD of 6 and 5 is 1\n"
          ]
        }
      ]
    },
    {
      "cell_type": "code",
      "source": [
        "#8. write a python program to check whether a list contains a sublist\n",
        "\n",
        "lst = [1, 2, 3, 4, 5, 6, 7, 8, 9]\n",
        "sublst = [4, 5, 6]\n",
        "def contains_sublist(lst, sublst):\n",
        "    n = len(sublst)\n",
        "    return any(sublst == lst[i:i+n] \n",
        "               for i in range(len(lst)-n+1))\n",
        "\n",
        "contains_sublist(lst, sublst)\n",
        "\n",
        "\n"
      ],
      "metadata": {
        "id": "y6yabUFnHTVt",
        "colab": {
          "base_uri": "https://localhost:8080/"
        },
        "outputId": "a1c2ec29-bf2a-44b5-b3f7-ed52bebab3d9"
      },
      "execution_count": null,
      "outputs": [
        {
          "output_type": "execute_result",
          "data": {
            "text/plain": [
              "True"
            ]
          },
          "metadata": {},
          "execution_count": 5
        }
      ]
    },
    {
      "cell_type": "code",
      "source": [
        "#9.write a python program to find the second smallest number in a list\n",
        "\n",
        "lst = [5,9,8,7,3,5,0,4,0]\n",
        "def second_smallest(number):\n",
        "  number.sort()\n",
        "  return number[2]\n",
        "\n",
        "second_smallest(lst)\n"
      ],
      "metadata": {
        "colab": {
          "base_uri": "https://localhost:8080/"
        },
        "id": "x2hH09nJdBq-",
        "outputId": "7dd78e9f-5afe-4c1d-8f85-3b2c1d1e6d67"
      },
      "execution_count": null,
      "outputs": [
        {
          "output_type": "execute_result",
          "data": {
            "text/plain": [
              "3"
            ]
          },
          "metadata": {},
          "execution_count": 4
        }
      ]
    },
    {
      "cell_type": "code",
      "source": [
        "lst1 = [50, 47, 49,11,55,99,10,56,28,48]\n",
        "\n",
        "def six_smallest(number):\n",
        "  number.sort()\n",
        "  return number[1]\n",
        "\n",
        "six_smallest(lst1)  "
      ],
      "metadata": {
        "colab": {
          "base_uri": "https://localhost:8080/"
        },
        "id": "4nf4JUoge1br",
        "outputId": "25a94626-7d97-4aab-bf50-31ce2a2c4821"
      },
      "execution_count": null,
      "outputs": [
        {
          "output_type": "execute_result",
          "data": {
            "text/plain": [
              "11"
            ]
          },
          "metadata": {},
          "execution_count": 3
        }
      ]
    },
    {
      "cell_type": "code",
      "source": [
        "#10. write the python program to get unique values from a list\n",
        "\n",
        "input_list = [1, 2, 3, 4, 4, 5, 6, 6, 7]\n",
        "\n",
        "def get_unique_values(input_list):\n",
        "    return list(set(input_list))\n",
        "\n",
        "get_unique_values(input_list)\n"
      ],
      "metadata": {
        "id": "V2m7f2oygaHU",
        "colab": {
          "base_uri": "https://localhost:8080/"
        },
        "outputId": "d92facba-f312-497f-ce26-d529ad327ca1"
      },
      "execution_count": null,
      "outputs": [
        {
          "output_type": "execute_result",
          "data": {
            "text/plain": [
              "[1, 2, 3, 4, 5, 6, 7]"
            ]
          },
          "metadata": {},
          "execution_count": 3
        }
      ]
    },
    {
      "cell_type": "code",
      "source": [
        "#11.write the python program to unzip a list of tuple into individual lists\n",
        "\n",
        "input_list = [(1, 2, 3), (4, 5, 6), (7, 8, 9)]\n",
        "\n",
        "def unzip(input_list):\n",
        "    return zip(*input_list)\n",
        "\n",
        "x, y, z = unzip(input_list)\n",
        "print(x)\n",
        "print(y)\n",
        "print(z)\n"
      ],
      "metadata": {
        "colab": {
          "base_uri": "https://localhost:8080/"
        },
        "id": "tEgggBBKvntB",
        "outputId": "fa2018ea-c5f6-4863-931c-9149f28e16a7"
      },
      "execution_count": null,
      "outputs": [
        {
          "output_type": "stream",
          "name": "stdout",
          "text": [
            "(1, 4, 7)\n",
            "(2, 5, 8)\n",
            "(3, 6, 9)\n"
          ]
        }
      ]
    },
    {
      "cell_type": "code",
      "source": [
        "#12.write a python program to covert a list of tuple into a dictionary\n",
        "\n",
        "lst = [1,2,3,4,6,9,8,7]\n",
        "t = tuple(lst)\n",
        "t\n",
        "d = {t}\n",
        "d"
      ],
      "metadata": {
        "colab": {
          "base_uri": "https://localhost:8080/"
        },
        "id": "g56MTCsKVWVE",
        "outputId": "977d7200-260b-4f4f-9beb-9028106d3295"
      },
      "execution_count": null,
      "outputs": [
        {
          "output_type": "execute_result",
          "data": {
            "text/plain": [
              "{(1, 2, 3, 4, 6, 9, 8, 7)}"
            ]
          },
          "metadata": {},
          "execution_count": 8
        }
      ]
    },
    {
      "cell_type": "code",
      "source": [
        "#13. write the python program to sort  a dictionary ascending/decending by value\n",
        "\n",
        "d = {'a': 10, 'b': 5, 'c': 30}\n",
        "\n",
        "print(\"Ascending Order:\", sort_dict_by_value(d))\n",
        "# Output: Ascending Order: {'b': 5, 'a': 10, 'c': 30}\n",
        "\n",
        "print(\"Descending Order:\", sort_dict_by_value(d, \"descending\"))\n",
        "# Output: Descending Order: {'c': 30, 'a': 10, 'b': 5}\n"
      ],
      "metadata": {
        "id": "nakbyUCIm70M",
        "colab": {
          "base_uri": "https://localhost:8080/",
          "height": 235
        },
        "outputId": "6ec1cacc-8a5a-4ce0-bcde-2303ffec0e8c"
      },
      "execution_count": null,
      "outputs": [
        {
          "output_type": "error",
          "ename": "NameError",
          "evalue": "ignored",
          "traceback": [
            "\u001b[0;31m---------------------------------------------------------------------------\u001b[0m",
            "\u001b[0;31mNameError\u001b[0m                                 Traceback (most recent call last)",
            "\u001b[0;32m<ipython-input-24-df486fb8aee6>\u001b[0m in \u001b[0;36m<module>\u001b[0;34m\u001b[0m\n\u001b[1;32m      3\u001b[0m \u001b[0md\u001b[0m \u001b[0;34m=\u001b[0m \u001b[0;34m{\u001b[0m\u001b[0;34m'a'\u001b[0m\u001b[0;34m:\u001b[0m \u001b[0;36m10\u001b[0m\u001b[0;34m,\u001b[0m \u001b[0;34m'b'\u001b[0m\u001b[0;34m:\u001b[0m \u001b[0;36m5\u001b[0m\u001b[0;34m,\u001b[0m \u001b[0;34m'c'\u001b[0m\u001b[0;34m:\u001b[0m \u001b[0;36m30\u001b[0m\u001b[0;34m}\u001b[0m\u001b[0;34m\u001b[0m\u001b[0;34m\u001b[0m\u001b[0m\n\u001b[1;32m      4\u001b[0m \u001b[0;34m\u001b[0m\u001b[0m\n\u001b[0;32m----> 5\u001b[0;31m \u001b[0mprint\u001b[0m\u001b[0;34m(\u001b[0m\u001b[0;34m\"Ascending Order:\"\u001b[0m\u001b[0;34m,\u001b[0m \u001b[0msort_dict_by_value\u001b[0m\u001b[0;34m(\u001b[0m\u001b[0md\u001b[0m\u001b[0;34m)\u001b[0m\u001b[0;34m)\u001b[0m\u001b[0;34m\u001b[0m\u001b[0;34m\u001b[0m\u001b[0m\n\u001b[0m\u001b[1;32m      6\u001b[0m \u001b[0;31m# Output: Ascending Order: {'b': 5, 'a': 10, 'c': 30}\u001b[0m\u001b[0;34m\u001b[0m\u001b[0;34m\u001b[0m\u001b[0;34m\u001b[0m\u001b[0m\n\u001b[1;32m      7\u001b[0m \u001b[0;34m\u001b[0m\u001b[0m\n",
            "\u001b[0;31mNameError\u001b[0m: name 'sort_dict_by_value' is not defined"
          ]
        }
      ]
    },
    {
      "cell_type": "code",
      "source": [
        "#14.write the python program to find the highest 3 values in a dictionary\n",
        "\n",
        "lst2 = [1,8,9,7,6,5,2,10]\n",
        "def highest_3_values(lst2):\n",
        "  lst2.sort(reverse=True)\n",
        "  return lst2[ :3]\n",
        "\n",
        "highest_3_values(lst2)\n",
        "  \n"
      ],
      "metadata": {
        "colab": {
          "base_uri": "https://localhost:8080/"
        },
        "id": "NLKqOBRHm1F3",
        "outputId": "ff571a5d-1de7-48eb-da55-eb5fdc398a43"
      },
      "execution_count": null,
      "outputs": [
        {
          "output_type": "execute_result",
          "data": {
            "text/plain": [
              "[10, 9, 8]"
            ]
          },
          "metadata": {},
          "execution_count": 30
        }
      ]
    },
    {
      "cell_type": "code",
      "source": [
        "d = {\"a\" : 1, \"b\": 2, \"c\":4, \"d\":5, \"e\":6, \"f\":7}\n",
        "def highest_3_values(d.values):\n",
        "  d.values.sort(reverse=True)\n",
        "  return d.values[ :3]\n",
        "\n",
        "highest_3_values(d.values)\n",
        "  \n"
      ],
      "metadata": {
        "colab": {
          "base_uri": "https://localhost:8080/",
          "height": 130
        },
        "id": "zYE0I5jHtnqE",
        "outputId": "c9136183-6707-48eb-d76b-f2a457b22e4b"
      },
      "execution_count": null,
      "outputs": [
        {
          "output_type": "error",
          "ename": "SyntaxError",
          "evalue": "ignored",
          "traceback": [
            "\u001b[0;36m  File \u001b[0;32m\"<ipython-input-6-1aae97407028>\"\u001b[0;36m, line \u001b[0;32m2\u001b[0m\n\u001b[0;31m    def highest_3_values(d.values):\u001b[0m\n\u001b[0m                          ^\u001b[0m\n\u001b[0;31mSyntaxError\u001b[0m\u001b[0;31m:\u001b[0m invalid syntax\n"
          ]
        }
      ]
    },
    {
      "cell_type": "code",
      "source": [
        "#15given a number n, write a python program to make and print the list of fibonacci series up to n.\n",
        "\n",
        "num = int(input(\"Enter the counts\"))\n",
        "\n",
        "a = 0 \n",
        "b = 1 \n",
        "\n",
        "print(a)\n",
        "print(b)\n",
        "\n",
        "for i in range(2 , num):\n",
        "  c = a + b\n",
        "  print(c)\n",
        "  a = b\n",
        "  b = c"
      ],
      "metadata": {
        "colab": {
          "base_uri": "https://localhost:8080/"
        },
        "id": "NTouuaryv-lV",
        "outputId": "235278cc-3f72-4d6d-a522-5180f484d361"
      },
      "execution_count": null,
      "outputs": [
        {
          "output_type": "stream",
          "name": "stdout",
          "text": [
            "Enter the counts8\n",
            "0\n",
            "1\n",
            "1\n",
            "2\n",
            "3\n",
            "5\n",
            "8\n",
            "13\n"
          ]
        }
      ]
    },
    {
      "cell_type": "code",
      "source": [
        "#16counting the frequencies in a list using  a dictionary in python\n",
        "\n",
        "lst = [1,1,1,5,5,3,1,3,3,1,4,4,4,2,2,2,2]\n",
        "def count_frequencies(lst):\n",
        "    frequency = {}\n",
        "    for item in lst:\n",
        "        if item in frequency:\n",
        "            frequency[item] += 1\n",
        "        else:\n",
        "            frequency[item] = 1\n",
        "    return frequency\n",
        "\n",
        "count_frequencies(lst)\n"
      ],
      "metadata": {
        "colab": {
          "base_uri": "https://localhost:8080/"
        },
        "id": "gqDz4yRSsi8k",
        "outputId": "afe49a9e-fb2e-42eb-8d9d-65e78a32574f"
      },
      "execution_count": null,
      "outputs": [
        {
          "output_type": "execute_result",
          "data": {
            "text/plain": [
              "{1: 5, 5: 2, 3: 3, 4: 3, 2: 4}"
            ]
          },
          "metadata": {},
          "execution_count": 8
        }
      ]
    },
    {
      "cell_type": "code",
      "source": [
        "#17.write a python program using function to find the sum of add series and even series \n",
        "# odd series: 12/1! + 32/3! + 52/5! +.......n\n",
        "# even series : 22/2! +42/2! + 62/6!......n\n",
        "\n",
        "def sum_series(n):\n",
        "    odd_sum = n ** 2\n",
        "    even_sum = n * (n + 1)\n",
        "    return odd_sum, even_sum\n",
        "\n",
        "n = int(input(\"Enter a positive integer n: \"))\n",
        "odd_sum, even_sum = sum_series(n)\n",
        "print(\"The sum of the odd series is\", odd_sum)\n",
        "print(\"The sum of the even series is\", even_sum)\n"
      ],
      "metadata": {
        "id": "40zSWxTWzySz",
        "colab": {
          "base_uri": "https://localhost:8080/"
        },
        "outputId": "90e02606-954d-4996-fd3f-a701dc6eb3ce"
      },
      "execution_count": null,
      "outputs": [
        {
          "output_type": "stream",
          "name": "stdout",
          "text": [
            "Enter a positive integer n: 2\n",
            "The sum of the odd series is 4\n",
            "The sum of the even series is 6\n"
          ]
        }
      ]
    },
    {
      "cell_type": "code",
      "source": [
        "#18.python program to find the factorial number using recursion\n",
        "\n",
        "def factorial(n):\n",
        "    if n == 1:\n",
        "        return 1\n",
        "    else:\n",
        "        return n * factorial(n-1)\n",
        "\n",
        "factorial(6)  \n"
      ],
      "metadata": {
        "colab": {
          "base_uri": "https://localhost:8080/"
        },
        "id": "pJFwtQIBkHTF",
        "outputId": "7dc186f9-8469-4228-b8b3-237bb59c68bc"
      },
      "execution_count": null,
      "outputs": [
        {
          "output_type": "execute_result",
          "data": {
            "text/plain": [
              "720"
            ]
          },
          "metadata": {},
          "execution_count": 3
        }
      ]
    },
    {
      "cell_type": "code",
      "source": [
        "#19.write a python function that takes a list and return a new list with unique element of the first list.\n",
        "\n",
        "def unique_list(lst):\n",
        "    return list(set(lst))\n",
        "lst = [1, 2, 3, 4, 2, 1, 3]\n",
        "unique_list(lst)\n",
        "[1, 2, 3, 4]\n"
      ],
      "metadata": {
        "colab": {
          "base_uri": "https://localhost:8080/"
        },
        "id": "KjbBHejM2Hk-",
        "outputId": "c7a577ea-96d1-426f-af16-1aca3900c6a9"
      },
      "execution_count": null,
      "outputs": [
        {
          "output_type": "execute_result",
          "data": {
            "text/plain": [
              "[1, 2, 3, 4]"
            ]
          },
          "metadata": {},
          "execution_count": 12
        }
      ]
    }
  ]
}